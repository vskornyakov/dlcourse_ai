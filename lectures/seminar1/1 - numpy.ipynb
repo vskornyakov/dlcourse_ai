{
 "cells": [
  {
   "cell_type": "code",
   "execution_count": 2,
   "metadata": {},
   "outputs": [],
   "source": [
    "import numpy"
   ]
  },
  {
   "cell_type": "code",
   "execution_count": 4,
   "metadata": {},
   "outputs": [],
   "source": [
    "a = numpy.zeros((2, 3), dtype=numpy.float32)"
   ]
  },
  {
   "cell_type": "code",
   "execution_count": 6,
   "metadata": {},
   "outputs": [
    {
     "data": {
      "text/plain": [
       "array([[ 0.,  0.,  0.],\n",
       "       [ 0.,  0.,  0.]], dtype=float32)"
      ]
     },
     "execution_count": 6,
     "metadata": {},
     "output_type": "execute_result"
    }
   ],
   "source": [
    "a"
   ]
  },
  {
   "cell_type": "code",
   "execution_count": 8,
   "metadata": {},
   "outputs": [],
   "source": [
    "a; # ничего не выведет"
   ]
  },
  {
   "cell_type": "code",
   "execution_count": 9,
   "metadata": {},
   "outputs": [
    {
     "data": {
      "text/plain": [
       "numpy.ndarray"
      ]
     },
     "execution_count": 9,
     "metadata": {},
     "output_type": "execute_result"
    }
   ],
   "source": [
    "type(a)"
   ]
  },
  {
   "cell_type": "code",
   "execution_count": 11,
   "metadata": {},
   "outputs": [
    {
     "data": {
      "text/plain": [
       "array([[[ 0.,  0.,  0.,  0.],\n",
       "        [ 0.,  0.,  0.,  0.],\n",
       "        [ 0.,  0.,  0.,  0.]],\n",
       "\n",
       "       [[ 0.,  0.,  0.,  0.],\n",
       "        [ 0.,  0.,  0.,  0.],\n",
       "        [ 0.,  0.,  0.,  0.]]], dtype=float32)"
      ]
     },
     "execution_count": 11,
     "metadata": {},
     "output_type": "execute_result"
    }
   ],
   "source": [
    "a = numpy.zeros((2, 3, 4), dtype=numpy.float32)\n",
    "a"
   ]
  },
  {
   "cell_type": "code",
   "execution_count": 12,
   "metadata": {},
   "outputs": [
    {
     "data": {
      "text/plain": [
       "array([[[ 1.,  1.,  1.,  1.],\n",
       "        [ 1.,  1.,  1.,  1.],\n",
       "        [ 1.,  1.,  1.,  1.]],\n",
       "\n",
       "       [[ 1.,  1.,  1.,  1.],\n",
       "        [ 1.,  1.,  1.,  1.],\n",
       "        [ 1.,  1.,  1.,  1.]]], dtype=float32)"
      ]
     },
     "metadata": {},
     "output_type": "display_data"
    }
   ],
   "source": [
    "# сложение со скаляром, display -- вывод с помощью jupyter (colab)\n",
    "a += 1\n",
    "display(a)"
   ]
  },
  {
   "cell_type": "code",
   "execution_count": 13,
   "metadata": {},
   "outputs": [
    {
     "data": {
      "text/plain": [
       "array([[[ 2.,  2.,  2.,  2.],\n",
       "        [ 2.,  2.,  2.,  2.],\n",
       "        [ 2.,  2.,  2.,  2.]],\n",
       "\n",
       "       [[ 2.,  2.,  2.,  2.],\n",
       "        [ 2.,  2.,  2.,  2.],\n",
       "        [ 2.,  2.,  2.,  2.]]], dtype=float32)"
      ]
     },
     "metadata": {},
     "output_type": "display_data"
    }
   ],
   "source": [
    "# умножение на скаляр\n",
    "a *=2\n",
    "display(a)"
   ]
  },
  {
   "cell_type": "code",
   "execution_count": 14,
   "metadata": {},
   "outputs": [],
   "source": [
    "ones = lambda *shape: numpy.ones(shape, dtype=numpy.float32)"
   ]
  },
  {
   "cell_type": "code",
   "execution_count": 16,
   "metadata": {},
   "outputs": [
    {
     "data": {
      "text/plain": [
       "array([ 1.], dtype=float32)"
      ]
     },
     "execution_count": 16,
     "metadata": {},
     "output_type": "execute_result"
    }
   ],
   "source": [
    "ones(1)"
   ]
  },
  {
   "cell_type": "code",
   "execution_count": 17,
   "metadata": {},
   "outputs": [
    {
     "data": {
      "text/plain": [
       "array([], dtype=float32)"
      ]
     },
     "execution_count": 17,
     "metadata": {},
     "output_type": "execute_result"
    }
   ],
   "source": [
    "ones(0)"
   ]
  },
  {
   "cell_type": "code",
   "execution_count": 18,
   "metadata": {},
   "outputs": [
    {
     "data": {
      "text/plain": [
       "array([ 1.,  1.,  1.], dtype=float32)"
      ]
     },
     "execution_count": 18,
     "metadata": {},
     "output_type": "execute_result"
    }
   ],
   "source": [
    "ones(3)"
   ]
  },
  {
   "cell_type": "code",
   "execution_count": 23,
   "metadata": {},
   "outputs": [
    {
     "data": {
      "text/plain": [
       "array([], shape=(0, 1), dtype=float32)"
      ]
     },
     "execution_count": 23,
     "metadata": {},
     "output_type": "execute_result"
    }
   ],
   "source": [
    "ones(0,1)"
   ]
  },
  {
   "cell_type": "code",
   "execution_count": null,
   "metadata": {},
   "outputs": [],
   "source": []
  },
  {
   "cell_type": "code",
   "execution_count": null,
   "metadata": {},
   "outputs": [],
   "source": []
  },
  {
   "cell_type": "code",
   "execution_count": null,
   "metadata": {},
   "outputs": [],
   "source": []
  },
  {
   "cell_type": "code",
   "execution_count": null,
   "metadata": {},
   "outputs": [],
   "source": []
  },
  {
   "cell_type": "code",
   "execution_count": null,
   "metadata": {},
   "outputs": [],
   "source": []
  },
  {
   "cell_type": "code",
   "execution_count": null,
   "metadata": {},
   "outputs": [],
   "source": []
  },
  {
   "cell_type": "markdown",
   "metadata": {},
   "source": [
    "## Задача\n",
    "вывести красиво операцию A + B = C на экран"
   ]
  },
  {
   "cell_type": "code",
   "execution_count": 24,
   "metadata": {},
   "outputs": [],
   "source": [
    "my_input = [ones(2,3), '+', ones(2,3), '=', ones(2,3)*2]"
   ]
  },
  {
   "cell_type": "code",
   "execution_count": 25,
   "metadata": {},
   "outputs": [
    {
     "name": "stdout",
     "output_type": "stream",
     "text": [
      "[array([[ 1.,  1.,  1.],\n",
      "       [ 1.,  1.,  1.]], dtype=float32), '+', array([[ 1.,  1.,  1.],\n",
      "       [ 1.,  1.,  1.]], dtype=float32), '=', array([[ 2.,  2.,  2.],\n",
      "       [ 2.,  2.,  2.]], dtype=float32)]\n"
     ]
    }
   ],
   "source": [
    "print(my_input)"
   ]
  },
  {
   "cell_type": "code",
   "execution_count": 26,
   "metadata": {},
   "outputs": [
    {
     "name": "stdout",
     "output_type": "stream",
     "text": [
      "[[ 1.  1.  1.]\n",
      " [ 1.  1.  1.]] + [[ 1.  1.  1.]\n",
      " [ 1.  1.  1.]] = [[ 2.  2.  2.]\n",
      " [ 2.  2.  2.]]\n"
     ]
    }
   ],
   "source": [
    "print(*my_input)"
   ]
  },
  {
   "cell_type": "code",
   "execution_count": 27,
   "metadata": {},
   "outputs": [
    {
     "data": {
      "text/plain": [
       "[array([[ 1.,  1.,  1.],\n",
       "        [ 1.,  1.,  1.]], dtype=float32), '+', array([[ 1.,  1.,  1.],\n",
       "        [ 1.,  1.,  1.]], dtype=float32), '=', array([[ 2.,  2.,  2.],\n",
       "        [ 2.,  2.,  2.]], dtype=float32)]"
      ]
     },
     "metadata": {},
     "output_type": "display_data"
    }
   ],
   "source": [
    "display(my_input)"
   ]
  },
  {
   "cell_type": "code",
   "execution_count": 28,
   "metadata": {},
   "outputs": [],
   "source": [
    "# пусть наша функция имеет такой формат:\n",
    "def pp(*lst):\n",
    "    pass\n",
    "pp(*my_input)"
   ]
  },
  {
   "cell_type": "code",
   "execution_count": 29,
   "metadata": {},
   "outputs": [
    {
     "data": {
      "text/plain": [
       "[['array([[ 1.,  1.,  1.],', '       [ 1.,  1.,  1.]], dtype=float32)'],\n",
       " [\"'+'\"],\n",
       " ['array([[ 1.,  1.,  1.],', '       [ 1.,  1.,  1.]], dtype=float32)'],\n",
       " [\"'='\"],\n",
       " ['array([[ 2.,  2.,  2.],', '       [ 2.,  2.,  2.]], dtype=float32)']]"
      ]
     },
     "execution_count": 29,
     "metadata": {},
     "output_type": "execute_result"
    }
   ],
   "source": [
    "# вывод через repr\n",
    "lines = [repr(a).split('\\n') for a in my_input]\n",
    "lines"
   ]
  },
  {
   "cell_type": "code",
   "execution_count": 30,
   "metadata": {},
   "outputs": [
    {
     "data": {
      "text/plain": [
       "[['[[ 1.  1.  1.]', ' [ 1.  1.  1.]]'],\n",
       " ['+'],\n",
       " ['[[ 1.  1.  1.]', ' [ 1.  1.  1.]]'],\n",
       " ['='],\n",
       " ['[[ 2.  2.  2.]', ' [ 2.  2.  2.]]']]"
      ]
     },
     "execution_count": 30,
     "metadata": {},
     "output_type": "execute_result"
    }
   ],
   "source": [
    "# вывод через str\n",
    "lines = [str(a).split('\\n') for a in my_input]\n",
    "lines"
   ]
  },
  {
   "cell_type": "code",
   "execution_count": 31,
   "metadata": {},
   "outputs": [
    {
     "data": {
      "text/plain": [
       "2"
      ]
     },
     "execution_count": 31,
     "metadata": {},
     "output_type": "execute_result"
    }
   ],
   "source": [
    "max_lines = max([len(line) for line in lines])\n",
    "max_lines"
   ]
  },
  {
   "cell_type": "code",
   "execution_count": 32,
   "metadata": {},
   "outputs": [
    {
     "data": {
      "text/plain": [
       "[['[[ 1.  1.  1.]', ' [ 1.  1.  1.]]'],\n",
       " ['+', ''],\n",
       " ['[[ 1.  1.  1.]', ' [ 1.  1.  1.]]'],\n",
       " ['=', ''],\n",
       " ['[[ 2.  2.  2.]', ' [ 2.  2.  2.]]']]"
      ]
     },
     "execution_count": 32,
     "metadata": {},
     "output_type": "execute_result"
    }
   ],
   "source": [
    "lines = [line + ['']*(max_lines - len(line)) for line in lines]\n",
    "lines        "
   ]
  },
  {
   "cell_type": "markdown",
   "metadata": {},
   "source": [
    "## транспонирование, reshape, операция получения максимума"
   ]
  },
  {
   "cell_type": "code",
   "execution_count": 34,
   "metadata": {},
   "outputs": [
    {
     "data": {
      "text/plain": [
       "array([['[[ 1.  1.  1.]', '+', '[[ 1.  1.  1.]', '=', '[[ 2.  2.  2.]'],\n",
       "       [' [ 1.  1.  1.]]', '', ' [ 1.  1.  1.]]', '', ' [ 2.  2.  2.]]']],\n",
       "      dtype='<U15')"
      ]
     },
     "execution_count": 34,
     "metadata": {},
     "output_type": "execute_result"
    }
   ],
   "source": [
    "lines_arr = numpy.array(lines)\n",
    "lines_arr.T"
   ]
  },
  {
   "cell_type": "code",
   "execution_count": 36,
   "metadata": {},
   "outputs": [
    {
     "data": {
      "text/plain": [
       "[2, 2, 2, 2, 2]"
      ]
     },
     "metadata": {},
     "output_type": "display_data"
    }
   ],
   "source": [
    "widths = [len(x) for x in lines]\n",
    "display(widths)"
   ]
  },
  {
   "cell_type": "code",
   "execution_count": 38,
   "metadata": {},
   "outputs": [
    {
     "data": {
      "text/plain": [
       "(5, 2)"
      ]
     },
     "execution_count": 38,
     "metadata": {},
     "output_type": "execute_result"
    }
   ],
   "source": [
    "lines_arr.shape"
   ]
  },
  {
   "cell_type": "code",
   "execution_count": 42,
   "metadata": {},
   "outputs": [
    {
     "data": {
      "text/plain": [
       "(10,)"
      ]
     },
     "execution_count": 42,
     "metadata": {},
     "output_type": "execute_result"
    }
   ],
   "source": [
    "# преобразование к плоскому виду\n",
    "lines_arr.flatten().shape"
   ]
  },
  {
   "cell_type": "code",
   "execution_count": 43,
   "metadata": {},
   "outputs": [
    {
     "data": {
      "text/plain": [
       "array([14, 15,  1,  0, 14, 15,  1,  0, 14, 15])"
      ]
     },
     "metadata": {},
     "output_type": "display_data"
    }
   ],
   "source": [
    "widths = numpy.array([len(x) for x in lines_arr.flatten()])\n",
    "display(widths)"
   ]
  },
  {
   "cell_type": "code",
   "execution_count": 44,
   "metadata": {},
   "outputs": [
    {
     "data": {
      "text/plain": [
       "array([[14, 15],\n",
       "       [ 1,  0],\n",
       "       [14, 15],\n",
       "       [ 1,  0],\n",
       "       [14, 15]])"
      ]
     },
     "metadata": {},
     "output_type": "display_data"
    }
   ],
   "source": [
    "widths = widths.reshape(len(lines_arr), -1)\n",
    "display(widths)"
   ]
  },
  {
   "cell_type": "code",
   "execution_count": 45,
   "metadata": {},
   "outputs": [
    {
     "data": {
      "text/plain": [
       "array([[14, 15],\n",
       "       [ 1,  0],\n",
       "       [14, 15],\n",
       "       [ 1,  0],\n",
       "       [14, 15]])"
      ]
     },
     "metadata": {},
     "output_type": "display_data"
    }
   ],
   "source": [
    "# другой способ сделать решейп\n",
    "widths = widths.reshape(*lines_arr.shape)\n",
    "display(widths)"
   ]
  },
  {
   "cell_type": "code",
   "execution_count": 49,
   "metadata": {},
   "outputs": [
    {
     "data": {
      "text/plain": [
       "15"
      ]
     },
     "execution_count": 49,
     "metadata": {},
     "output_type": "execute_result"
    }
   ],
   "source": [
    "# считаем максимум\n",
    "numpy.max(widths)"
   ]
  },
  {
   "cell_type": "code",
   "execution_count": 51,
   "metadata": {},
   "outputs": [
    {
     "data": {
      "text/plain": [
       "15"
      ]
     },
     "execution_count": 51,
     "metadata": {},
     "output_type": "execute_result"
    }
   ],
   "source": [
    "# другим способом\n",
    "widths.max()"
   ]
  },
  {
   "cell_type": "code",
   "execution_count": 52,
   "metadata": {},
   "outputs": [],
   "source": [
    "line_widths = widths.max(axis=1)"
   ]
  },
  {
   "cell_type": "markdown",
   "metadata": {},
   "source": [
    "форматирование всё равно придётся делать поэлементно. зашли в тупик.."
   ]
  },
  {
   "cell_type": "code",
   "execution_count": 55,
   "metadata": {},
   "outputs": [
    {
     "data": {
      "text/plain": [
       "[['[[ 1.  1.  1.]', ' [ 1.  1.  1.]]'],\n",
       " ['+'],\n",
       " ['[[ 1.  1.  1.]', ' [ 1.  1.  1.]]'],\n",
       " ['='],\n",
       " ['[[ 2.  2.  2.]', ' [ 2.  2.  2.]]']]"
      ]
     },
     "execution_count": 55,
     "metadata": {},
     "output_type": "execute_result"
    }
   ],
   "source": [
    "lines = [str(a).split('\\n') for a in my_input]; \n",
    "lines"
   ]
  },
  {
   "cell_type": "code",
   "execution_count": 57,
   "metadata": {},
   "outputs": [
    {
     "data": {
      "text/plain": [
       "2"
      ]
     },
     "execution_count": 57,
     "metadata": {},
     "output_type": "execute_result"
    }
   ],
   "source": [
    "max_lines = max([len(line) for line in lines])\n",
    "max_lines"
   ]
  },
  {
   "cell_type": "code",
   "execution_count": 58,
   "metadata": {},
   "outputs": [],
   "source": [
    "def fmt_item(lines, max_lines=0):\n",
    "    max_width = max([len(line) for line in lines])\n",
    "    empty = ' '*max_width\n",
    "    lines = [line.ljust(max_width) for line in lines]\n",
    "    lines += [empty] * (max_lines - len(lines))\n",
    "    return lines "
   ]
  },
  {
   "cell_type": "code",
   "execution_count": 59,
   "metadata": {},
   "outputs": [
    {
     "data": {
      "text/plain": [
       "['[[1 2] ', ' [3 4]]', '       ']"
      ]
     },
     "execution_count": 59,
     "metadata": {},
     "output_type": "execute_result"
    }
   ],
   "source": [
    "fmt_item(str(numpy.arange(1, 5).reshape(2,-1)).split('\\n'), max_lines=3)"
   ]
  },
  {
   "cell_type": "code",
   "execution_count": 60,
   "metadata": {},
   "outputs": [
    {
     "name": "stdout",
     "output_type": "stream",
     "text": [
      "[[1 2] \n",
      " [3 4]]\n",
      "       \n"
     ]
    }
   ],
   "source": [
    "results = fmt_item(str(numpy.arange(1, 5).reshape(2,-1)).split('\\n'), max_lines=3)\n",
    "print('\\n'.join(results))"
   ]
  },
  {
   "cell_type": "code",
   "execution_count": 61,
   "metadata": {},
   "outputs": [],
   "source": [
    "# а что делать дальше, когда у нас есть такие массивы? \n",
    "# воспользуемся array().T"
   ]
  },
  {
   "cell_type": "code",
   "execution_count": 62,
   "metadata": {},
   "outputs": [
    {
     "name": "stdout",
     "output_type": "stream",
     "text": [
      "[[ 1.  1.  1.]  + [[ 1.  1.  1.]  = [[ 2.  2.  2.] \n",
      " [ 1.  1.  1.]]    [ 1.  1.  1.]]    [ 2.  2.  2.]]\n"
     ]
    }
   ],
   "source": [
    "def pp(*lst):\n",
    "    lines = [str(item).split('\\n') for item in lst]\n",
    "    max_lines = max([len(item) for item in lines])\n",
    "    lines = [fmt_item(item, max_lines=max_lines) for item in lines]\n",
    "    lines_t = numpy.array(lines).T\n",
    "    print('\\n'.join([' '.join(line) for line in lines_t]))\n",
    "    \n",
    "pp(*my_input)"
   ]
  },
  {
   "cell_type": "markdown",
   "metadata": {},
   "source": [
    "## Попробуем нашу функцию:"
   ]
  },
  {
   "cell_type": "code",
   "execution_count": 70,
   "metadata": {},
   "outputs": [],
   "source": [
    "A = numpy.arange(1, 11).reshape(5,2);\n",
    "B = numpy.linspace(10, 30, 10).reshape(5,2)\n",
    "R = A * B"
   ]
  },
  {
   "cell_type": "code",
   "execution_count": 74,
   "metadata": {},
   "outputs": [
    {
     "data": {
      "text/plain": [
       "array([[ 1,  2],\n",
       "       [ 3,  4],\n",
       "       [ 5,  6],\n",
       "       [ 7,  8],\n",
       "       [ 9, 10]])"
      ]
     },
     "metadata": {},
     "output_type": "display_data"
    },
    {
     "data": {
      "text/plain": [
       "array([[ 10.        ,  12.22222222],\n",
       "       [ 14.44444444,  16.66666667],\n",
       "       [ 18.88888889,  21.11111111],\n",
       "       [ 23.33333333,  25.55555556],\n",
       "       [ 27.77777778,  30.        ]])"
      ]
     },
     "metadata": {},
     "output_type": "display_data"
    },
    {
     "data": {
      "text/plain": [
       "array([[  10.        ,   24.44444444],\n",
       "       [  43.33333333,   66.66666667],\n",
       "       [  94.44444444,  126.66666667],\n",
       "       [ 163.33333333,  204.44444444],\n",
       "       [ 250.        ,  300.        ]])"
      ]
     },
     "metadata": {},
     "output_type": "display_data"
    }
   ],
   "source": [
    "display(A)\n",
    "display(B)\n",
    "display(R)"
   ]
  },
  {
   "cell_type": "code",
   "execution_count": 69,
   "metadata": {},
   "outputs": [
    {
     "name": "stdout",
     "output_type": "stream",
     "text": [
      "[[ 1  2]  * [[ 10.          12.22222222]  = [[  10.           24.44444444] \n",
      " [ 3  4]     [ 14.44444444  16.66666667]     [  43.33333333   66.66666667] \n",
      " [ 5  6]     [ 18.88888889  21.11111111]     [  94.44444444  126.66666667] \n",
      " [ 7  8]     [ 23.33333333  25.55555556]     [ 163.33333333  204.44444444] \n",
      " [ 9 10]]    [ 27.77777778  30.        ]]    [ 250.          300.        ]]\n"
     ]
    }
   ],
   "source": [
    "pp(A, '*', B, '=', R)"
   ]
  },
  {
   "cell_type": "code",
   "execution_count": 78,
   "metadata": {},
   "outputs": [],
   "source": [
    "import operator\n",
    "#operator.add = lambda x, y: x + y\n",
    "\n",
    "def op(x, name, y, func):\n",
    "    r = func(x, y)\n",
    "    pp(x, name, y, '=', r)"
   ]
  },
  {
   "cell_type": "code",
   "execution_count": 79,
   "metadata": {},
   "outputs": [
    {
     "name": "stdout",
     "output_type": "stream",
     "text": [
      "[[1 2]  + [[5 6]  = [[ 6  8] \n",
      " [3 4]]    [7 8]]    [10 12]]\n"
     ]
    }
   ],
   "source": [
    "op(numpy.array([[1,2], [3,4]]), '+', numpy.array([[5,6], [7,8]]), operator.add)"
   ]
  },
  {
   "cell_type": "code",
   "execution_count": 80,
   "metadata": {},
   "outputs": [],
   "source": [
    "# вспомним классы, оформим в виде класса"
   ]
  },
  {
   "cell_type": "code",
   "execution_count": 82,
   "metadata": {},
   "outputs": [],
   "source": [
    "class Op:\n",
    "    def __init__(self, name, func):\n",
    "        self.name = name\n",
    "        self.func = func\n",
    "        \n",
    "    def __call__(self, x, y):\n",
    "        r = self.func(x, y)\n",
    "        pp(x, self.name, y, '=', r)"
   ]
  },
  {
   "cell_type": "code",
   "execution_count": 87,
   "metadata": {},
   "outputs": [],
   "source": [
    "SSum = Op('+', lambda x,y: x + y)"
   ]
  },
  {
   "cell_type": "code",
   "execution_count": 88,
   "metadata": {},
   "outputs": [],
   "source": [
    "SMul = Op('*', lambda x,y: x * y )"
   ]
  },
  {
   "cell_type": "code",
   "execution_count": 89,
   "metadata": {},
   "outputs": [],
   "source": [
    "MMul = Op('@', lambda x,y: x @ y )"
   ]
  },
  {
   "cell_type": "code",
   "execution_count": 90,
   "metadata": {},
   "outputs": [
    {
     "name": "stdout",
     "output_type": "stream",
     "text": [
      "[[ 1  2]  + [[ 10.          12.22222222]  = [[ 11.          14.22222222] \n",
      " [ 3  4]     [ 14.44444444  16.66666667]     [ 17.44444444  20.66666667] \n",
      " [ 5  6]     [ 18.88888889  21.11111111]     [ 23.88888889  27.11111111] \n",
      " [ 7  8]     [ 23.33333333  25.55555556]     [ 30.33333333  33.55555556] \n",
      " [ 9 10]]    [ 27.77777778  30.        ]]    [ 36.77777778  40.        ]]\n"
     ]
    }
   ],
   "source": [
    "SSum(A,B)"
   ]
  },
  {
   "cell_type": "code",
   "execution_count": 91,
   "metadata": {},
   "outputs": [
    {
     "name": "stdout",
     "output_type": "stream",
     "text": [
      "[[ 1  2]  * [[ 10.          12.22222222]  = [[  10.           24.44444444] \n",
      " [ 3  4]     [ 14.44444444  16.66666667]     [  43.33333333   66.66666667] \n",
      " [ 5  6]     [ 18.88888889  21.11111111]     [  94.44444444  126.66666667] \n",
      " [ 7  8]     [ 23.33333333  25.55555556]     [ 163.33333333  204.44444444] \n",
      " [ 9 10]]    [ 27.77777778  30.        ]]    [ 250.          300.        ]]\n"
     ]
    }
   ],
   "source": [
    "SMul(A,B)"
   ]
  },
  {
   "cell_type": "code",
   "execution_count": 93,
   "metadata": {},
   "outputs": [
    {
     "name": "stdout",
     "output_type": "stream",
     "text": [
      "[[ 1  3  5  7  9]  @ [[ 10.          12.22222222]  = [[ 561.11111111  616.66666667] \n",
      " [ 2  4  6  8 10]]    [ 14.44444444  16.66666667]     [ 655.55555556  722.22222222]]\n",
      "                      [ 18.88888889  21.11111111]                                   \n",
      "                      [ 23.33333333  25.55555556]                                   \n",
      "                      [ 27.77777778  30.        ]]                                  \n"
     ]
    }
   ],
   "source": [
    "MMul(A.T, B)"
   ]
  },
  {
   "cell_type": "markdown",
   "metadata": {},
   "source": [
    "## Простая индексация"
   ]
  },
  {
   "cell_type": "code",
   "execution_count": 95,
   "metadata": {},
   "outputs": [
    {
     "name": "stdout",
     "output_type": "stream",
     "text": [
      "[ 10.          12.22222222] 27.7777777778 [ 10.          14.44444444  18.88888889  23.33333333  27.77777778]\n"
     ]
    }
   ],
   "source": [
    "pp(B[0, :], B[-1, -2], B[:, 0])"
   ]
  },
  {
   "cell_type": "code",
   "execution_count": null,
   "metadata": {},
   "outputs": [],
   "source": []
  },
  {
   "cell_type": "code",
   "execution_count": null,
   "metadata": {},
   "outputs": [],
   "source": []
  },
  {
   "cell_type": "markdown",
   "metadata": {},
   "source": [
    "## Broadcasting и stack"
   ]
  },
  {
   "cell_type": "code",
   "execution_count": 97,
   "metadata": {},
   "outputs": [
    {
     "name": "stdout",
     "output_type": "stream",
     "text": [
      "[[ 1  2]  + [ 10.          12.22222222] = [[ 11.          14.22222222] \n",
      " [ 3  4]                                   [ 13.          16.22222222] \n",
      " [ 5  6]                                   [ 15.          18.22222222] \n",
      " [ 7  8]                                   [ 17.          20.22222222] \n",
      " [ 9 10]]                                  [ 19.          22.22222222]]\n"
     ]
    }
   ],
   "source": [
    "SSum(A, B[0])  # что произойдёт? это преобразование называется broadcasting"
   ]
  },
  {
   "cell_type": "code",
   "execution_count": 98,
   "metadata": {},
   "outputs": [
    {
     "name": "stdout",
     "output_type": "stream",
     "text": [
      "[[ 1  2]  * [ 10.          12.22222222] = [[  10.           24.44444444] \n",
      " [ 3  4]                                   [  30.           48.88888889] \n",
      " [ 5  6]                                   [  50.           73.33333333] \n",
      " [ 7  8]                                   [  70.           97.77777778] \n",
      " [ 9 10]]                                  [  90.          122.22222222]]\n"
     ]
    }
   ],
   "source": [
    "SMul(A, B[0])  # смотрим ещё раз, на умножении"
   ]
  },
  {
   "cell_type": "code",
   "execution_count": 99,
   "metadata": {},
   "outputs": [
    {
     "name": "stdout",
     "output_type": "stream",
     "text": [
      "[[ 1  2]  * [[ 10.          12.22222222]  = [[  10.           24.44444444] \n",
      " [ 3  4]     [ 10.          12.22222222]     [  30.           48.88888889] \n",
      " [ 5  6]     [ 10.          12.22222222]     [  50.           73.33333333] \n",
      " [ 7  8]     [ 10.          12.22222222]     [  70.           97.77777778] \n",
      " [ 9 10]]    [ 10.          12.22222222]]    [  90.          122.22222222]]\n"
     ]
    }
   ],
   "source": [
    "SMul(A, numpy.stack(list(B[0:1])*5))"
   ]
  },
  {
   "cell_type": "markdown",
   "metadata": {},
   "source": [
    "## Бинарные и логические операции с массивами"
   ]
  },
  {
   "cell_type": "code",
   "execution_count": 100,
   "metadata": {},
   "outputs": [
    {
     "name": "stdout",
     "output_type": "stream",
     "text": [
      "[[ 1  2]  [[False False]  [[ 10.          12.22222222]  [[ True  True] \n",
      " [ 3  4]   [False  True]   [ 14.44444444  16.66666667]   [ True  True] \n",
      " [ 5  6]   [ True  True]   [ 18.88888889  21.11111111]   [ True  True] \n",
      " [ 7  8]   [ True  True]   [ 23.33333333  25.55555556]   [ True  True] \n",
      " [ 9 10]]  [ True  True]]  [ 27.77777778  30.        ]]  [ True  True]]\n"
     ]
    }
   ],
   "source": [
    "pp(A, A>3, B, B>=10.) # сравнение float -- дело неточное"
   ]
  },
  {
   "cell_type": "code",
   "execution_count": 109,
   "metadata": {},
   "outputs": [
    {
     "name": "stdout",
     "output_type": "stream",
     "text": [
      "[[ True False]  [[ True False] \n",
      " [False False]   [False False] \n",
      " [False False]   [False False] \n",
      " [False False]   [False False] \n",
      " [False False]]  [False False]]\n"
     ]
    }
   ],
   "source": [
    "# можно делать приближенные сравнения\n",
    "pp(numpy.isclose(B, 10), (10 - 1e-7 <= B) & (B <= 10 + 1e-7))"
   ]
  },
  {
   "cell_type": "code",
   "execution_count": 103,
   "metadata": {},
   "outputs": [
    {
     "data": {
      "text/plain": [
       "array([ 10.,  30.])"
      ]
     },
     "execution_count": 103,
     "metadata": {},
     "output_type": "execute_result"
    }
   ],
   "source": [
    "idx = numpy.isclose(B, 10) | numpy.isclose(B, 30)\n",
    "B[idx]"
   ]
  },
  {
   "cell_type": "markdown",
   "metadata": {},
   "source": [
    "## Индексация массивов"
   ]
  },
  {
   "cell_type": "code",
   "execution_count": 105,
   "metadata": {},
   "outputs": [
    {
     "name": "stdout",
     "output_type": "stream",
     "text": [
      "[[ 10.          12.22222222] \n",
      " [ 14.44444444  16.66666667] \n",
      " [ 18.88888889  21.11111111] \n",
      " [ 23.33333333  25.55555556] \n",
      " [ 27.77777778  30.        ]]\n"
     ]
    }
   ],
   "source": [
    "pp(B)"
   ]
  },
  {
   "cell_type": "code",
   "execution_count": 106,
   "metadata": {},
   "outputs": [
    {
     "name": "stdout",
     "output_type": "stream",
     "text": [
      "[]\n"
     ]
    }
   ],
   "source": [
    "pp(numpy.isclose(B[1:-1, 1:-1], 10))  # классическая индексация питона"
   ]
  },
  {
   "cell_type": "code",
   "execution_count": 107,
   "metadata": {},
   "outputs": [
    {
     "name": "stdout",
     "output_type": "stream",
     "text": [
      "[ True False]\n"
     ]
    }
   ],
   "source": [
    "pp(numpy.isclose(B[0], 10))   # берём первую строку"
   ]
  },
  {
   "cell_type": "code",
   "execution_count": 108,
   "metadata": {},
   "outputs": [
    {
     "name": "stdout",
     "output_type": "stream",
     "text": [
      "[False False False False False]\n"
     ]
    }
   ],
   "source": [
    "pp(numpy.isclose(B[:, 1], 10))   # берём второй столбец"
   ]
  },
  {
   "cell_type": "markdown",
   "metadata": {},
   "source": [
    "## Cлучайные значения"
   ]
  },
  {
   "cell_type": "code",
   "execution_count": 110,
   "metadata": {},
   "outputs": [
    {
     "name": "stdout",
     "output_type": "stream",
     "text": [
      "0.5585653363827051 [[ 0.71451641 -1.12096367  1.00078296]  [[ 0.87510171  0.28899264  0.26744987] \n",
      "                    [-0.59704203  1.30486104 -1.44823543]]  [ 0.28524607  0.12688044  0.05011297]]\n"
     ]
    }
   ],
   "source": [
    "pp(numpy.random.uniform(0, 1), numpy.random.randn(2, 3), numpy.random.rand(2, 3))"
   ]
  },
  {
   "cell_type": "code",
   "execution_count": 115,
   "metadata": {},
   "outputs": [
    {
     "name": "stdout",
     "output_type": "stream",
     "text": [
      "0.5714025946899135 0.771320643266746 0.4288890546751146 0.0207519493594015\n",
      "0.5714025946899135 0.771320643266746 0.4288890546751146 0.0207519493594015\n"
     ]
    }
   ],
   "source": [
    "import random\n",
    "random.seed(10)\n",
    "numpy.random.seed(10)\n",
    "nr = numpy.random.uniform(0, 1)\n",
    "nr2 = numpy.random.uniform(0, 1)\n",
    "rr = random.uniform(0, 1)\n",
    "rr2 = random.uniform(0, 1)\n",
    "pp(rr, nr, rr2, nr2)\n",
    "\n",
    "random.seed(10)\n",
    "numpy.random.seed(10)\n",
    "rr = random.uniform(0, 1)\n",
    "nr = numpy.random.uniform(0, 1)\n",
    "rr2 = random.uniform(0, 1)\n",
    "nr2 = numpy.random.uniform(0, 1)\n",
    "pp(rr, nr, rr2, nr2)"
   ]
  },
  {
   "cell_type": "markdown",
   "metadata": {},
   "source": [
    "## matplotlib"
   ]
  },
  {
   "cell_type": "code",
   "execution_count": 117,
   "metadata": {},
   "outputs": [
    {
     "data": {
      "image/png": "[encoded data removed]",
      "text/plain": [
       "<Figure size 432x288 with 1 Axes>"
      ]
     },
     "metadata": {},
     "output_type": "display_data"
    }
   ],
   "source": [
    "import matplotlib\n",
    "# значение по умолчанию в colab, но не в локальных ноутбуках\n",
    "# matplotlib.rcParams['axes.grid'] = True\n",
    "\n",
    "import matplotlib.pyplot as plt\n",
    "# нарисуем график для 11 случайных нормально распределённых чисел.\n",
    "x = numpy.linspace(0, 10, 11)\n",
    "dots = numpy.random.randn(11)\n",
    "plt.plot(x, dots);"
   ]
  },
  {
   "cell_type": "code",
   "execution_count": 123,
   "metadata": {},
   "outputs": [
    {
     "data": {
      "image/png": "[encoded data removed]",
      "text/plain": [
       "<Figure size 432x288 with 1 Axes>"
      ]
     },
     "metadata": {},
     "output_type": "display_data"
    }
   ],
   "source": [
    "import matplotlib\n",
    "matplotlib.rcParams['axes.grid'] = False  # убираем белую клетку (настройки colab)\n",
    "\n",
    "import matplotlib.pyplot as plt\n",
    "plt.plot(x, dots);  # рисуем линию ещё раз"
   ]
  },
  {
   "cell_type": "code",
   "execution_count": 124,
   "metadata": {},
   "outputs": [
    {
     "data": {
      "image/png": "[encoded data removed]",
      "text/plain": [
       "<Figure size 432x288 with 1 Axes>"
      ]
     },
     "metadata": {},
     "output_type": "display_data"
    }
   ],
   "source": [
    "# если надо просто вывести точки, без линий между ними\n",
    "plt.scatter(x, dots);"
   ]
  },
  {
   "cell_type": "code",
   "execution_count": 125,
   "metadata": {},
   "outputs": [
    {
     "data": {
      "image/png": "[encoded data removed]",
      "text/plain": [
       "<Figure size 432x288 with 1 Axes>"
      ]
     },
     "metadata": {},
     "output_type": "display_data"
    }
   ],
   "source": [
    "# выводим двумерный массив, используя цветовую схему 'hot'.\n",
    "# matplotlib автоматически определяет минимум и максимум\n",
    "# по нему настраивает цвета\n",
    "plt.imshow(numpy.arange(0, 120).reshape(6, 20), 'hot');"
   ]
  },
  {
   "cell_type": "markdown",
   "metadata": {},
   "source": [
    "## Строки и словари"
   ]
  },
  {
   "cell_type": "code",
   "execution_count": 129,
   "metadata": {},
   "outputs": [
    {
     "name": "stdout",
     "output_type": "stream",
     "text": [
      "{'е', 'с', 'ы', 'л', 'м', ' ', 'н', 'К', 'и', 'ш', 'а', 'т', 'к', 'о', 'д', 'р'}\n"
     ]
    }
   ],
   "source": [
    "#  Задача: определить, какой символ встречается чаще всего в данном тексте,\n",
    "# не считая пробелов!\n",
    "a = \"Кот сидел на крыше тише мыши\"\n",
    "pp(set(list(a)))"
   ]
  },
  {
   "cell_type": "code",
   "execution_count": 130,
   "metadata": {},
   "outputs": [
    {
     "data": {
      "text/plain": [
       "[(' ', 5),\n",
       " ('и', 3),\n",
       " ('е', 3),\n",
       " ('ш', 3),\n",
       " ('т', 2),\n",
       " ('ы', 2),\n",
       " ('К', 1),\n",
       " ('о', 1),\n",
       " ('с', 1),\n",
       " ('д', 1),\n",
       " ('л', 1),\n",
       " ('н', 1),\n",
       " ('а', 1),\n",
       " ('к', 1),\n",
       " ('р', 1),\n",
       " ('м', 1)]"
      ]
     },
     "execution_count": 130,
     "metadata": {},
     "output_type": "execute_result"
    }
   ],
   "source": [
    "# приближённое решение.\n",
    "from collections import Counter\n",
    "\n",
    "Counter(list(a)).most_common()\n",
    "# убрать пробел и будет то, что надо. попробуйте сами."
   ]
  },
  {
   "cell_type": "code",
   "execution_count": 131,
   "metadata": {},
   "outputs": [
    {
     "name": "stdout",
     "output_type": "stream",
     "text": [
      "{'к': 2, 'о': 1, 'т': 2, 'с': 1, 'и': 3, 'д': 1, 'е': 3, 'л': 1, 'н': 1, 'а': 1, 'р': 1, 'ы': 2, 'ш': 3, 'м': 1}\n"
     ]
    }
   ],
   "source": [
    "# напишем вручную код аналогичный тому, что происходит внутри Counter\n",
    "counter = {}\n",
    "for ch in list(a.lower()):\n",
    "    if ch == ' ': continue\n",
    "    if ch in counter:\n",
    "        counter[ch] += 1\n",
    "    else:\n",
    "        counter[ch] = 1\n",
    "    \n",
    "pp(counter)"
   ]
  },
  {
   "cell_type": "code",
   "execution_count": 132,
   "metadata": {},
   "outputs": [
    {
     "name": "stdout",
     "output_type": "stream",
     "text": [
      "<class 'str'>\n"
     ]
    }
   ],
   "source": [
    "pp(type(ch))  # в питоне даже отдельные символы -- это строчки"
   ]
  },
  {
   "cell_type": "code",
   "execution_count": 133,
   "metadata": {},
   "outputs": [
    {
     "data": {
      "text/plain": [
       "3"
      ]
     },
     "execution_count": 133,
     "metadata": {},
     "output_type": "execute_result"
    }
   ],
   "source": [
    "max(counter.values())  # нашли максимум"
   ]
  },
  {
   "cell_type": "code",
   "execution_count": 134,
   "metadata": {},
   "outputs": [
    {
     "name": "stdout",
     "output_type": "stream",
     "text": [
      "и 3\n"
     ]
    }
   ],
   "source": [
    "# алгоритм для поиска максимума\n",
    "winner_ch = None\n",
    "winner_count = 0\n",
    "for ch, count in counter.items():\n",
    "  if count > winner_count:\n",
    "      winner_count = count\n",
    "      winner_ch = ch\n",
    "print(winner_ch, winner_count)  # и вот наш символ-победитель\n",
    "# имейте в виду, победителя на самом деле три.\n",
    "# исправьте код, чтобы вывести и второй и третий."
   ]
  }
 ],
 "metadata": {
  "kernelspec": {
   "display_name": "Python 3",
   "language": "python",
   "name": "python3"
  },
  "language_info": {
   "codemirror_mode": {
    "name": "ipython",
    "version": 3
   },
   "file_extension": ".py",
   "mimetype": "text/x-python",
   "name": "python",
   "nbconvert_exporter": "python",
   "pygments_lexer": "ipython3",
   "version": "3.6.6"
  }
 },
 "nbformat": 4,
 "nbformat_minor": 2
}
